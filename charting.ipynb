{
 "cells": [
  {
   "cell_type": "code",
   "execution_count": null,
   "metadata": {
    "tags": []
   },
   "outputs": [],
   "source": [
    "from web.utils import utils\n",
    "df = utils.load_data()\n",
    "df = utils.clean_data(df)"
   ]
  },
  {
   "cell_type": "code",
   "execution_count": null,
   "metadata": {},
   "outputs": [],
   "source": [
    "import altair as alt\n",
    "alt.data_transformers.disable_max_rows()\n",
    "\n",
    "\n",
    "brush = alt.selection_interval()\n",
    "\n",
    "points = alt.Chart(df).mark_circle().encode(\n",
    "    x='Est_Monthly_Sales:Q',\n",
    "    y='Est_Monthly_Revenue:Q',\n",
    "    color=alt.condition(brush, 'Category:N', alt.value('lightgray')), \n",
    "    tooltip=['Sellers', 'LQS', 'Reviews', 'Rank', 'Fees', 'Net', 'Est_Monthly_Sales','Est_Monthly_Revenue', 'Category', 'Product_Name']\n",
    ").properties(width=400, height=200).add_selection(\n",
    "    brush\n",
    ")\n",
    "\n",
    "bars = alt.Chart(df).mark_bar().encode(\n",
    "    y='Category:N',\n",
    "    color='Category:N',\n",
    "    x='count(Category):Q'\n",
    ").properties(width=400, height=200).transform_filter(\n",
    "    brush\n",
    ")\n",
    "\n",
    "\n",
    "plot_product_scatterchart =  points & bars\n",
    "\n",
    "plot_product_scatterchart"
   ]
  },
  {
   "cell_type": "code",
   "execution_count": null,
   "metadata": {},
   "outputs": [],
   "source": [
    "plot_product_bar = alt.Chart(df).mark_bar().encode(\n",
    "    x='LQS',\n",
    "    y='Net:Q',\n",
    "    color= 'Category:N', \n",
    "    tooltip=['Sellers', 'LQS', 'Reviews', 'Rank', 'Fees', 'Net', 'Est_Monthly_Sales','Est_Monthly_Revenue', 'Category', 'Product_Name']\n",
    ").properties(width=400, height=200)\n",
    "\n",
    "plot_product_bar"
   ]
  },
  {
   "cell_type": "code",
   "execution_count": null,
   "metadata": {},
   "outputs": [],
   "source": [
    "plot_product_line = alt.Chart(df).mark_line().encode(\n",
    "    x='Rank',\n",
    "    y='Reviews:Q',\n",
    "    color= 'Category:N', \n",
    "    tooltip=['Sellers', 'LQS', 'Reviews', 'Rank', 'Fees', 'Net', 'Est_Monthly_Sales','Est_Monthly_Revenue', 'Category', 'Product_Name']\n",
    ").properties(width=400, height=200)\n",
    "\n",
    "plot_product_line"
   ]
  },
  {
   "cell_type": "code",
   "execution_count": null,
   "metadata": {},
   "outputs": [],
   "source": [
    "df['Date_First_Available'].apply(type)"
   ]
  },
  {
   "cell_type": "code",
   "execution_count": null,
   "metadata": {},
   "outputs": [],
   "source": [
    "alt.Chart(df).mark_bar().encode(\n",
    "    x='year(Date_First_Available):T',\n",
    "    y='Price',\n",
    "    color='Category',    \n",
    "    tooltip=['year(Date_First_Available)', 'Sellers', 'LQS', 'Reviews', 'Rank', 'Fees', 'Net', 'Est_Monthly_Sales','Est_Monthly_Revenue', 'Category', 'Product_Name']\n",
    ").properties(\n",
    "            height=180,\n",
    "            width=500,\n",
    "            ).interactive()"
   ]
  },
  {
   "cell_type": "code",
   "execution_count": null,
   "metadata": {},
   "outputs": [],
   "source": [
    "alt.Chart(df).mark_bar().encode(\n",
    "    x='yearquartermonth(Date_First_Available):T',\n",
    "    y='Price',\n",
    "    color='Category',    \n",
    "    tooltip=['yearquartermonth(Date_First_Available)', 'Sellers', 'LQS', 'Reviews', 'Rank', 'Fees', 'Net', 'Est_Monthly_Sales','Est_Monthly_Revenue', 'Category', 'Product_Name']\n",
    ").properties(\n",
    "            height=180,\n",
    "            width=500,\n",
    "            ).interactive()"
   ]
  }
 ],
 "metadata": {
  "environment": {
   "name": "tf2-gpu.2-1.m47",
   "type": "gcloud",
   "uri": "gcr.io/deeplearning-platform-release/tf2-gpu.2-1:m47"
  },
  "kernelspec": {
   "display_name": "Python 3",
   "language": "python",
   "name": "python3"
  },
  "language_info": {
   "codemirror_mode": {
    "name": "ipython",
    "version": 3
   },
   "file_extension": ".py",
   "mimetype": "text/x-python",
   "name": "python",
   "nbconvert_exporter": "python",
   "pygments_lexer": "ipython3",
   "version": "3.7.10"
  }
 },
 "nbformat": 4,
 "nbformat_minor": 4
}

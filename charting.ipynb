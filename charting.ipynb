{
 "cells": [
  {
   "cell_type": "code",
   "execution_count": null,
   "metadata": {},
   "outputs": [],
   "source": [
    "import pandas as pd\n",
    "import sqlite3\n",
    "\n",
    "# Read sqlite query results into a pandas DataFrame\n",
    "# con = sqlite3.connect(\"amzn-products.db\")\n",
    "con = sqlite3.connect(\"products.db\")\n",
    "df = pd.read_sql_query(\"SELECT * from product \", con)\n",
    "\n",
    "# Verify that result of SQL query is stored in the dataframe\n",
    "print(df.head(5))\n",
    "\n",
    "con.close()"
   ]
  },
  {
   "cell_type": "markdown",
   "metadata": {},
   "source": [
    "### Data Cleaning\n",
    "#### Trim spaces in all columns in the dataframe"
   ]
  },
  {
   "cell_type": "code",
   "execution_count": null,
   "metadata": {},
   "outputs": [],
   "source": [
    "# Trim spaces in all columns in the dataframe\n",
    "\n",
    "def trim_all_columns(df):\n",
    "    \"\"\"\n",
    "    Trim whitespace from ends of each value across all series in dataframe\n",
    "    \"\"\"\n",
    "    trim_strings = lambda x: x.strip() if isinstance(x, str) else x\n",
    "    return df.applymap(trim_strings)\n",
    "\n",
    "\n",
    "# simple example of trimming whitespace from data elements\n",
    "df = trim_all_columns(df)\n",
    "print(df)"
   ]
  },
  {
   "cell_type": "code",
   "execution_count": null,
   "metadata": {},
   "outputs": [],
   "source": [
    "def clean_Revenue_Sales_Fees_Net_data(x):\n",
    "    \"\"\" If the value is a string, then remove currency symbol, delimiters, and N.A.\n",
    "    otherwise, the value is numeric and can be converted\n",
    "    \"\"\"\n",
    "    if isinstance(x, str):\n",
    "        return(x.replace('$', '').replace(',', '').replace('N.A.','0').replace('--','0').replace('< ','-'))\n",
    "    return(x)"
   ]
  },
  {
   "cell_type": "markdown",
   "metadata": {},
   "source": [
    "### Fixing Rank column"
   ]
  },
  {
   "cell_type": "code",
   "execution_count": null,
   "metadata": {},
   "outputs": [],
   "source": [
    "# Check Data Type in Rank\n",
    "# See different data types in the same column.  \n",
    "\n",
    "df['Rank'].apply(type)"
   ]
  },
  {
   "cell_type": "code",
   "execution_count": null,
   "metadata": {},
   "outputs": [],
   "source": [
    "# Check Data Type in Rank\n",
    "# See different data types in the same column. \n",
    "\n",
    "df['Rank'].apply(type).value_counts()"
   ]
  },
  {
   "cell_type": "code",
   "execution_count": null,
   "metadata": {},
   "outputs": [],
   "source": [
    "# Clean data and convert to float data type\n",
    "df['Rank'] = df['Rank'].apply(clean_Revenue_Sales_Fees_Net_data).astype('float')"
   ]
  },
  {
   "cell_type": "code",
   "execution_count": null,
   "metadata": {},
   "outputs": [],
   "source": [
    "# Check Data Type in Rank\n",
    "# See float data types in the column. \n",
    "\n",
    "df['Rank'].apply(type).value_counts()"
   ]
  },
  {
   "cell_type": "code",
   "execution_count": null,
   "metadata": {},
   "outputs": [],
   "source": [
    "df.Rank"
   ]
  },
  {
   "cell_type": "markdown",
   "metadata": {},
   "source": [
    "### Fixing Est_Monthly_Revenue, Est_Monthly_Sales, Fees, and Net columns"
   ]
  },
  {
   "cell_type": "code",
   "execution_count": null,
   "metadata": {},
   "outputs": [],
   "source": [
    "# Check Data Type in Est_Monthly_Revenue\n",
    "# See different data types in the same column.  \n",
    "\n",
    "df['Est_Monthly_Revenue'].apply(type)"
   ]
  },
  {
   "cell_type": "code",
   "execution_count": null,
   "metadata": {},
   "outputs": [],
   "source": [
    "# Check Data Type in Est_Monthly_Revenue\n",
    "# See different data types in the same column. \n",
    "\n",
    "df['Est_Monthly_Revenue'].apply(type).value_counts()"
   ]
  },
  {
   "cell_type": "code",
   "execution_count": null,
   "metadata": {},
   "outputs": [],
   "source": [
    "# Clean data and convert to float data type\n",
    "df['Price'] = df['Price'].apply(clean_Revenue_Sales_Fees_Net_data).astype('float')\n"
   ]
  },
  {
   "cell_type": "code",
   "execution_count": null,
   "metadata": {},
   "outputs": [],
   "source": [
    "# Clean data and convert to float data type\n",
    "df['Est_Monthly_Revenue'] = df['Est_Monthly_Revenue'].apply(clean_Revenue_Sales_Fees_Net_data).astype('float')\n"
   ]
  },
  {
   "cell_type": "code",
   "execution_count": null,
   "metadata": {},
   "outputs": [],
   "source": [
    "# Clean data and convert to float data type\n",
    "df['Est_Monthly_Sales'] = df['Est_Monthly_Sales'].apply(clean_Revenue_Sales_Fees_Net_data).astype('float')\n"
   ]
  },
  {
   "cell_type": "code",
   "execution_count": null,
   "metadata": {},
   "outputs": [],
   "source": [
    "# Clean data and convert to float data type\n",
    "df['Fees'] = df['Fees'].apply(clean_Revenue_Sales_Fees_Net_data).astype('float')\n"
   ]
  },
  {
   "cell_type": "code",
   "execution_count": null,
   "metadata": {},
   "outputs": [],
   "source": [
    "# Clean data and convert to float data type\n",
    "df['Net'] = df['Net'].apply(clean_Revenue_Sales_Fees_Net_data).astype('float')\n"
   ]
  },
  {
   "cell_type": "code",
   "execution_count": null,
   "metadata": {},
   "outputs": [],
   "source": [
    "# Check Data Type in Est_Monthly_Revenue\n",
    "# See float data types in the column. \n",
    "\n",
    "df['Est_Monthly_Revenue'].apply(type).value_counts()"
   ]
  },
  {
   "cell_type": "code",
   "execution_count": null,
   "metadata": {},
   "outputs": [],
   "source": [
    "df.Est_Monthly_Revenue"
   ]
  },
  {
   "cell_type": "code",
   "execution_count": null,
   "metadata": {},
   "outputs": [],
   "source": [
    "import altair as alt\n",
    "alt.data_transformers.disable_max_rows()\n",
    "\n",
    "\n",
    "brush = alt.selection_interval()\n",
    "\n",
    "points = alt.Chart(df).mark_circle().encode(\n",
    "    x='Est_Monthly_Sales:Q',\n",
    "    y='Est_Monthly_Revenue:Q',\n",
    "    color=alt.condition(brush, 'Category:N', alt.value('lightgray')), \n",
    "    tooltip=['Sellers', 'LQS', 'Reviews', 'Rank', 'Fees', 'Net', 'Est_Monthly_Sales','Est_Monthly_Revenue', 'Category', 'Product_Name']\n",
    ").properties(width=400, height=200).add_selection(\n",
    "    brush\n",
    ")\n",
    "\n",
    "bars = alt.Chart(df).mark_bar().encode(\n",
    "    y='Category:N',\n",
    "    color='Category:N',\n",
    "    x='count(Category):Q'\n",
    ").properties(width=400, height=200).transform_filter(\n",
    "    brush\n",
    ")\n",
    "\n",
    "\n",
    "plot_product_scatterchart =  points & bars\n",
    "\n",
    "plot_product_scatterchart"
   ]
  },
  {
   "cell_type": "code",
   "execution_count": null,
   "metadata": {},
   "outputs": [],
   "source": [
    "plot_product_bar = alt.Chart(df).mark_bar().encode(\n",
    "    x='LQS',\n",
    "    y='Net:Q',\n",
    "    color= 'Category:N', \n",
    "    tooltip=['Sellers', 'LQS', 'Reviews', 'Rank', 'Fees', 'Net', 'Est_Monthly_Sales','Est_Monthly_Revenue', 'Category', 'Product_Name']\n",
    ").properties(width=400, height=200)\n",
    "\n",
    "plot_product_bar"
   ]
  },
  {
   "cell_type": "code",
   "execution_count": null,
   "metadata": {},
   "outputs": [],
   "source": [
    "plot_product_line = alt.Chart(df).mark_line().encode(\n",
    "    x='Rank',\n",
    "    y='Reviews:Q',\n",
    "    color= 'Category:N', \n",
    "    tooltip=['Sellers', 'LQS', 'Reviews', 'Rank', 'Fees', 'Net', 'Est_Monthly_Sales','Est_Monthly_Revenue', 'Category', 'Product_Name']\n",
    ").properties(width=400, height=200)\n",
    "\n",
    "plot_product_line"
   ]
  },
  {
   "cell_type": "code",
   "execution_count": null,
   "metadata": {},
   "outputs": [],
   "source": [
    "df['Date_First_Available'].apply(type)"
   ]
  },
  {
   "cell_type": "code",
   "execution_count": null,
   "metadata": {},
   "outputs": [],
   "source": [
    "alt.Chart(df).mark_bar().encode(\n",
    "    x='year(Date_First_Available):T',\n",
    "    y='Price',\n",
    "    color='Category',    \n",
    "    tooltip=['year(Date_First_Available)', 'Sellers', 'LQS', 'Reviews', 'Rank', 'Fees', 'Net', 'Est_Monthly_Sales','Est_Monthly_Revenue', 'Category', 'Product_Name']\n",
    ").properties(\n",
    "            height=180,\n",
    "            width=500,\n",
    "            ).interactive()"
   ]
  },
  {
   "cell_type": "code",
   "execution_count": null,
   "metadata": {},
   "outputs": [],
   "source": [
    "alt.Chart(df).mark_bar().encode(\n",
    "    x='yearquartermonth(Date_First_Available):T',\n",
    "    y='Price',\n",
    "    color='Category',    \n",
    "    tooltip=['yearquartermonth(Date_First_Available)', 'Sellers', 'LQS', 'Reviews', 'Rank', 'Fees', 'Net', 'Est_Monthly_Sales','Est_Monthly_Revenue', 'Category', 'Product_Name']\n",
    ").properties(\n",
    "            height=180,\n",
    "            width=500,\n",
    "            ).interactive()"
   ]
  },
  {
   "cell_type": "code",
   "execution_count": null,
   "metadata": {},
   "outputs": [],
   "source": [
    "df.shape"
   ]
  },
  {
   "cell_type": "code",
   "execution_count": null,
   "metadata": {},
   "outputs": [],
   "source": []
  },
  {
   "cell_type": "code",
   "execution_count": null,
   "metadata": {},
   "outputs": [],
   "source": [
    "df.isnull().sum()\n"
   ]
  },
  {
   "cell_type": "code",
   "execution_count": null,
   "metadata": {},
   "outputs": [],
   "source": [
    "df.describe()"
   ]
  },
  {
   "cell_type": "code",
   "execution_count": null,
   "metadata": {},
   "outputs": [],
   "source": []
  }
 ],
 "metadata": {
  "environment": {
   "name": "tf2-gpu.2-1.m47",
   "type": "gcloud",
   "uri": "gcr.io/deeplearning-platform-release/tf2-gpu.2-1:m47"
  },
  "kernelspec": {
   "display_name": "Python 3",
   "language": "python",
   "name": "python3"
  },
  "language_info": {
   "codemirror_mode": {
    "name": "ipython",
    "version": 3
   },
   "file_extension": ".py",
   "mimetype": "text/x-python",
   "name": "python",
   "nbconvert_exporter": "python",
   "pygments_lexer": "ipython3",
   "version": "3.7.10"
  }
 },
 "nbformat": 4,
 "nbformat_minor": 4
}
